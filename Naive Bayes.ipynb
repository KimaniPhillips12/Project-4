{
 "cells": [
  {
   "cell_type": "code",
   "execution_count": 24,
   "id": "f9e3556c",
   "metadata": {},
   "outputs": [],
   "source": [
    "import pandas as pd\n",
    "import json\n",
    "import matplotlib.pyplot as plt\n",
    "import seaborn as sns\n",
    "import warnings\n",
    "warnings.filterwarnings('ignore')\n",
    "from sklearn.pipeline import Pipeline\n",
    "from sklearn.multiclass import OneVsRestClassifier\n",
    "from sklearn.naive_bayes import MultinomialNB\n",
    "import joblib\n",
    "from sklearn.model_selection import GridSearchCV\n",
    "from time import time\n",
    "from sklearn.model_selection import train_test_split\n",
    "from sklearn.pipeline import Pipeline\n",
    "from sklearn.feature_extraction.text import TfidfVectorizer\n",
    "from sklearn.preprocessing import MultiLabelBinarizer\n",
    "from scipy.sparse import hstack\n",
    "from sklearn.metrics import accuracy_score\n",
    "from collections import Counter"
   ]
  },
  {
   "cell_type": "code",
   "execution_count": 19,
   "id": "d165910e",
   "metadata": {},
   "outputs": [],
   "source": [
    "df = pd.read_csv('booksummaries.txt', sep='\\t',\n",
    "                 names=['id1', 'id2', 'title', 'author', 'year', 'genres', 'summary'],\n",
    "                 usecols=[2, 3, 5, 6], converters={'genres' : lambda s : (list(json.loads(s).values()) if s else None)})"
   ]
  },
  {
   "cell_type": "code",
   "execution_count": 20,
   "id": "4a8df237",
   "metadata": {},
   "outputs": [
    {
     "data": {
      "text/html": [
       "<div>\n",
       "<style scoped>\n",
       "    .dataframe tbody tr th:only-of-type {\n",
       "        vertical-align: middle;\n",
       "    }\n",
       "\n",
       "    .dataframe tbody tr th {\n",
       "        vertical-align: top;\n",
       "    }\n",
       "\n",
       "    .dataframe thead th {\n",
       "        text-align: right;\n",
       "    }\n",
       "</style>\n",
       "<table border=\"1\" class=\"dataframe\">\n",
       "  <thead>\n",
       "    <tr style=\"text-align: right;\">\n",
       "      <th></th>\n",
       "      <th>title</th>\n",
       "      <th>author</th>\n",
       "      <th>genres</th>\n",
       "      <th>summary</th>\n",
       "    </tr>\n",
       "  </thead>\n",
       "  <tbody>\n",
       "    <tr>\n",
       "      <th>0</th>\n",
       "      <td>Animal Farm</td>\n",
       "      <td>George Orwell</td>\n",
       "      <td>[Roman à clef, Satire, Children's literature, ...</td>\n",
       "      <td>Old Major, the old boar on the Manor Farm, ca...</td>\n",
       "    </tr>\n",
       "    <tr>\n",
       "      <th>1</th>\n",
       "      <td>A Clockwork Orange</td>\n",
       "      <td>Anthony Burgess</td>\n",
       "      <td>[Science Fiction, Novella, Speculative fiction...</td>\n",
       "      <td>Alex, a teenager living in near-future Englan...</td>\n",
       "    </tr>\n",
       "    <tr>\n",
       "      <th>2</th>\n",
       "      <td>The Plague</td>\n",
       "      <td>Albert Camus</td>\n",
       "      <td>[Existentialism, Fiction, Absurdist fiction, N...</td>\n",
       "      <td>The text of The Plague is divided into five p...</td>\n",
       "    </tr>\n",
       "    <tr>\n",
       "      <th>3</th>\n",
       "      <td>An Enquiry Concerning Human Understanding</td>\n",
       "      <td>David Hume</td>\n",
       "      <td>None</td>\n",
       "      <td>The argument of the Enquiry proceeds by a ser...</td>\n",
       "    </tr>\n",
       "    <tr>\n",
       "      <th>4</th>\n",
       "      <td>A Fire Upon the Deep</td>\n",
       "      <td>Vernor Vinge</td>\n",
       "      <td>[Hard science fiction, Science Fiction, Specul...</td>\n",
       "      <td>The novel posits that space around the Milky ...</td>\n",
       "    </tr>\n",
       "  </tbody>\n",
       "</table>\n",
       "</div>"
      ],
      "text/plain": [
       "                                       title           author  \\\n",
       "0                                Animal Farm    George Orwell   \n",
       "1                         A Clockwork Orange  Anthony Burgess   \n",
       "2                                 The Plague     Albert Camus   \n",
       "3  An Enquiry Concerning Human Understanding       David Hume   \n",
       "4                       A Fire Upon the Deep     Vernor Vinge   \n",
       "\n",
       "                                              genres  \\\n",
       "0  [Roman à clef, Satire, Children's literature, ...   \n",
       "1  [Science Fiction, Novella, Speculative fiction...   \n",
       "2  [Existentialism, Fiction, Absurdist fiction, N...   \n",
       "3                                               None   \n",
       "4  [Hard science fiction, Science Fiction, Specul...   \n",
       "\n",
       "                                             summary  \n",
       "0   Old Major, the old boar on the Manor Farm, ca...  \n",
       "1   Alex, a teenager living in near-future Englan...  \n",
       "2   The text of The Plague is divided into five p...  \n",
       "3   The argument of the Enquiry proceeds by a ser...  \n",
       "4   The novel posits that space around the Milky ...  "
      ]
     },
     "execution_count": 20,
     "metadata": {},
     "output_type": "execute_result"
    }
   ],
   "source": [
    "df.head()"
   ]
  },
  {
   "cell_type": "code",
   "execution_count": 21,
   "id": "37caac6a",
   "metadata": {},
   "outputs": [],
   "source": [
    "genres_column = df['genres']"
   ]
  },
  {
   "cell_type": "code",
   "execution_count": 22,
   "id": "23be4efe",
   "metadata": {},
   "outputs": [
    {
     "data": {
      "text/plain": [
       "0        [Roman à clef, Satire, Children's literature, ...\n",
       "1        [Science Fiction, Novella, Speculative fiction...\n",
       "2        [Existentialism, Fiction, Absurdist fiction, N...\n",
       "4        [Hard science fiction, Science Fiction, Specul...\n",
       "5                                [War novel, Roman à clef]\n",
       "                               ...                        \n",
       "16549                                    [Science Fiction]\n",
       "16551                        [Thriller, Fiction, Suspense]\n",
       "16555                                  [Thriller, Fiction]\n",
       "16556                                      [Autobiography]\n",
       "16558              [Epistolary novel, Speculative fiction]\n",
       "Name: genres, Length: 12841, dtype: object"
      ]
     },
     "execution_count": 22,
     "metadata": {},
     "output_type": "execute_result"
    }
   ],
   "source": [
    "genres_column.dropna()"
   ]
  },
  {
   "cell_type": "code",
   "execution_count": 25,
   "id": "da566c09",
   "metadata": {},
   "outputs": [],
   "source": [
    "# Iterate through each row to extract and split the list of genres\n",
    "all_genres = []\n",
    "# Iterate through each element in the 'genres_column'\n",
    "for genres_item in genres_column:\n",
    "    # Check if the element is a string\n",
    "    if isinstance(genres_item, str):\n",
    "        # Split the string by comma and extend the list of all genres\n",
    "        all_genres.extend([genre.strip() for genre in genres_item.split(',')])\n",
    "    # Check if the element is a list\n",
    "    elif isinstance(genres_item, list):\n",
    "        # Extend the list of all genres directly\n",
    "        all_genres.extend(genres_item)\n",
    "\n",
    "# Count the occurrences of each unique genre\n",
    "genre_counts = Counter(all_genres)"
   ]
  },
  {
   "cell_type": "code",
   "execution_count": 26,
   "id": "187372cc",
   "metadata": {},
   "outputs": [
    {
     "name": "stdout",
     "output_type": "stream",
     "text": [
      "Counter({'Fiction': 4747, 'Speculative fiction': 4314, 'Science Fiction': 2870, 'Novel': 2463, 'Fantasy': 2413, \"Children's literature\": 2122, 'Mystery': 1396, 'Young adult literature': 825, 'Suspense': 765, 'Crime Fiction': 753, 'Historical novel': 654, 'Thriller': 568, 'Horror': 511, 'Romance novel': 435, 'Historical fiction': 388, 'Detective fiction': 341, 'Adventure novel': 330, 'Non-fiction': 230, 'Alternate history': 226, 'Spy fiction': 190, 'Comedy': 145, 'Dystopia': 127, 'Autobiography': 124, 'Satire': 123, 'Gothic fiction': 112, 'Comic novel': 104, 'Biography': 102, 'Novella': 87, 'War novel': 87, 'Short story': 78, 'Autobiographical novel': 77, 'History': 73, 'Utopian and dystopian fiction': 67, 'Memoir': 67, 'High fantasy': 66, 'Humour': 62, 'Techno-thriller': 59, 'Apocalyptic and post-apocalyptic fiction': 56, 'Picture book': 49, 'Role-playing game': 48, 'Philosophy': 47, 'Steampunk': 47, 'Paranormal romance': 46, 'Bildungsroman': 42, 'Western': 41, 'Gamebook': 39, 'Reference': 38, 'Black comedy': 38, 'Urban fantasy': 37, 'Literary fiction': 36, 'Military science fiction': 33, 'Sociology': 31, 'Sword and sorcery': 31, 'Epistolary novel': 30, 'Whodunit': 30, 'Roman à clef': 29, 'Absurdist fiction': 29, 'Drama': 29, 'Poetry': 28, 'Psychological novel': 26, 'Hard science fiction': 25, 'Magic realism': 25, 'Hardboiled': 24, 'Western fiction': 23, 'Adventure': 23, 'Dark fantasy': 23, 'Science': 22, 'True crime': 22, 'Travel': 21, 'Psychology': 21, 'Time travel': 20, 'Picaresque novel': 18, 'Wuxia': 18, 'Historical fantasy': 18, 'Graphic novel': 17, 'Parallel novel': 17, 'Cyberpunk': 16, 'Business': 16, 'Religion': 16, 'Erotica': 16, 'Lost World': 16, 'Parody': 15, 'Chivalric romance': 15, 'Vampire fiction': 15, 'Scientific romance': 14, 'Economics': 13, 'Politics': 13, 'Künstlerroman': 12, 'Mathematics': 12, 'Biographical novel': 12, 'Space opera': 12, 'Cozy': 11, 'Travel literature': 11, 'Chick lit': 11, 'Inspirational': 10, 'Music': 10, 'Comic book': 10, 'Nature': 10, 'Science fantasy': 10, 'Regency romance': 10, 'Play': 9, 'Fairy tale': 9, 'Tragicomedy': 9, 'Existentialism': 8, 'Popular science': 8, 'Literary realism': 8, 'Self-help': 7, 'Comic science fiction': 7, 'Feminist science fiction': 7, 'Historical whodunnit': 7, 'Personal journal': 7, 'Postmodernism': 7, 'Gay novel': 7, 'Sports': 7, 'Transhumanism': 6, 'Post-holocaust': 6, 'Industrial novel': 6, 'Comics': 6, 'Fantasy of manners': 6, 'Historical romance': 6, 'Anthology': 6, 'Contemporary fantasy': 6, 'Spirituality': 5, 'Zombies in popular culture': 5, 'Planetary romance': 5, 'Treatise': 5, 'Comic fantasy': 5, 'Locked room mystery': 5, 'Soft science fiction': 5, 'Campus novel': 5, 'Social science fiction': 5, 'Essay': 5, 'Urban fiction': 5, 'Mashup': 5, 'Religious text': 4, 'Invasion literature': 4, 'Farce': 4, 'Sea story': 4, 'Anthropology': 4, 'Supernatural': 4, 'Conspiracy fiction': 4, 'Ghost story': 4, 'Social novel': 4, 'Zombie': 4, 'Coming of age': 4, 'Edisonade': 4, 'Subterranean fiction': 4, 'Heroic fantasy': 4, 'Encyclopedia': 4, 'Prose': 4, 'Catastrophic literature': 3, 'Non-fiction novel': 3, 'Ergodic literature': 3, 'Social sciences': 3, 'Social commentary': 3, 'Political philosophy': 3, 'Serial': 3, 'Dying Earth subgenre': 3, 'Polemic': 3, 'Photography': 3, 'Creative nonfiction': 3, 'Juvenile fantasy': 2, 'Albino bias': 2, 'Postcyberpunk': 2, 'Comedy of manners': 2, 'Morality play': 2, 'Prose poetry': 2, 'Literary criticism': 2, 'Naval adventure': 2, 'Transgender and transsexual fiction': 2, 'Sword and planet': 2, 'LGBT literature': 2, 'Foreign legion': 2, 'Robinsonade': 2, 'Romantic comedy': 2, 'Metaphysics': 2, 'Education': 2, 'Cookbook': 2, 'Military history': 2, 'Modernism': 2, 'Light novel': 2, 'Fairytale fantasy': 2, 'Biopunk': 2, 'Computer Science': 1, 'Social criticism': 1, 'Anti-war': 1, 'Human extinction': 1, 'First-person narrative': 1, 'New Weird': 1, 'Cabal': 1, 'Conspiracy': 1, 'School story': 1, 'English public-school stories': 1, \"Boys' school stories\": 1, 'Experimental literature': 1, 'Gay Themed': 1, 'Utopian fiction': 1, 'Future history': 1, 'Anti-nuclear': 1, 'Literary theory': 1, 'Elizabethan romance': 1, 'Pornography': 1, 'Georgian romance': 1, 'American Gothic Fiction': 1, 'Field guide': 1, 'Fable': 1, 'Bangsian fantasy': 1, 'Space western': 1, 'Fantastique': 1, 'Youth': 1, 'Medieval romance': 1, 'Bit Lit': 1, 'Collage': 1, 'Superhero fiction': 1, 'Marketing': 1, 'Colonial United States romance': 1, 'Low fantasy': 1, 'Police procedural': 1, 'Indian chick lit': 1, 'Autobiographical comics': 1, 'Fictional crossover': 1, 'Popular culture': 1, 'Neuroscience': 1, 'New York Times Best Seller list': 1, 'Epic Science Fiction and Fantasy': 1, 'Alien invasion': 1, 'Pastiche': 1})\n"
     ]
    }
   ],
   "source": [
    "print(genre_counts)"
   ]
  },
  {
   "cell_type": "code",
   "execution_count": 27,
   "id": "d47b4c2c",
   "metadata": {},
   "outputs": [
    {
     "name": "stdout",
     "output_type": "stream",
     "text": [
      "Fiction                4747\n",
      "Speculative fiction    4314\n",
      "Science Fiction        2870\n",
      "Novel                  2463\n",
      "Fantasy                2413\n",
      "                       ... \n",
      "Fable                     1\n",
      "Bangsian fantasy          1\n",
      "Space western             1\n",
      "Fantastique               1\n",
      "Pastiche                  1\n",
      "Length: 227, dtype: int64\n"
     ]
    }
   ],
   "source": [
    "all_genres_series = pd.Series(all_genres)\n",
    "genre_counts = all_genres_series.value_counts()\n",
    "\n",
    "# Now you can use genre_counts as desired\n",
    "print(genre_counts)"
   ]
  },
  {
   "cell_type": "code",
   "execution_count": 28,
   "id": "0665d3e1",
   "metadata": {},
   "outputs": [],
   "source": [
    "valid_genres = ['Science Fiction','Crime Fiction','Non-fiction','Children\\'s literature',\n",
    "                'Fantasy', 'Mystery', 'Young adult literature']"
   ]
  },
  {
   "cell_type": "code",
   "execution_count": 29,
   "id": "a2d3a4e9",
   "metadata": {},
   "outputs": [],
   "source": [
    "# Iterate through each row to extract and split the list of genres\n",
    "book_list = []\n",
    "\n",
    "# Iterate through each element in the 'genres_column'\n",
    "for i, row in df.iterrows():\n",
    "    if row[\"genres\"]:\n",
    "        for genre in valid_genres:\n",
    "            new_row={\n",
    "                \"title\": row[\"title\"],\n",
    "                \"author\": row[\"author\"],\n",
    "                \"summary\": row[\"summary\"]\n",
    "                }\n",
    "            genre_list=row[\"genres\"]\n",
    "            if genre in genre_list:\n",
    "                new_row[\"genre\"]=genre\n",
    "                book_list.append(new_row)\n",
    "book_df = pd.DataFrame(book_list)"
   ]
  },
  {
   "cell_type": "code",
   "execution_count": 30,
   "id": "c2f5ab15",
   "metadata": {},
   "outputs": [],
   "source": [
    "book_df = book_df.drop_duplicates(subset=['title'])"
   ]
  },
  {
   "cell_type": "code",
   "execution_count": 31,
   "id": "d255e9c1",
   "metadata": {},
   "outputs": [
    {
     "data": {
      "image/png": "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",
      "text/plain": [
       "<Figure size 1000x500 with 1 Axes>"
      ]
     },
     "metadata": {},
     "output_type": "display_data"
    }
   ],
   "source": [
    "plt.figure(figsize=(10,5))\n",
    "sns.set_theme(style='whitegrid')\n",
    "sns.countplot(data=book_df, order=book_df[\"genre\"].value_counts().index, y='genre')\n",
    "plt.title(\"Counts per Genre\")\n",
    "plt.show()"
   ]
  },
  {
   "cell_type": "code",
   "execution_count": 32,
   "id": "daeb6364",
   "metadata": {},
   "outputs": [
    {
     "name": "stdout",
     "output_type": "stream",
     "text": [
      "Training dataset = 6366\n",
      "Testing dataset = 1592\n"
     ]
    },
    {
     "data": {
      "image/png": "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",
      "text/plain": [
       "<Figure size 2500x800 with 2 Axes>"
      ]
     },
     "metadata": {},
     "output_type": "display_data"
    }
   ],
   "source": [
    "# Splitting the data into training and testing sets\n",
    "train, test = train_test_split(book_df, random_state=42, test_size=0.2, shuffle=True, stratify=book_df['genre'])\n",
    "\n",
    "# Extracting features and labels for training and testing\n",
    "train_x = train.summary\n",
    "train_y = train.genre\n",
    "test_x = test.summary.to_numpy()\n",
    "test_y = test.genre.to_numpy()\n",
    "test_titles = test['title'].to_numpy()\n",
    "\n",
    "# Printing the size of the training and testing datasets\n",
    "print(\"Training dataset = {}\".format(len(train_x)))\n",
    "print(\"Testing dataset = {}\".format(len(test_x)))\n",
    "\n",
    "# Visualizing the distribution of genres in the training and testing datasets\n",
    "colors=['tab:orange', 'tab:green', 'tab:blue', 'tab:brown', 'tab:pink', 'tab:purple','tab:red', 'tab:gray', 'tab:olive']\n",
    "plt.figure(figsize=(25,8))\n",
    "plt.subplot(1,2,1).set_title(\"Train Dataset-Counts per Genre\")\n",
    "train.groupby('genre').size().sort_values(ascending=True).plot(kind='barh', color=colors,ax=plt.gca())\n",
    "plt.subplot(1,2,2).set_title(\"Test Dataset-Counts per Genre\")\n",
    "test.groupby('genre').size().sort_values(ascending=True).plot(kind='barh', color=colors,ax=plt.gca())\n",
    "plt.show()"
   ]
  },
  {
   "cell_type": "code",
   "execution_count": 33,
   "id": "d82a2575",
   "metadata": {},
   "outputs": [
    {
     "name": "stdout",
     "output_type": "stream",
     "text": [
      "Model has been saved as ./NB_model.sav\n",
      "#### Model Evaluation on Test Data: ####\n",
      "Train Accuracy : 0.589\n",
      "Test Accuracy : 0.456\n"
     ]
    }
   ],
   "source": [
    "# Define and train your model using the training data\n",
    "NB_pipeline = Pipeline([\n",
    "                ('tfidf', TfidfVectorizer(stop_words='english', ngram_range=(1,1), use_idf=True)),\n",
    "                ('clf', OneVsRestClassifier(MultinomialNB())),\n",
    "            ])\n",
    "NB_pipeline.fit(train_x, train_y)\n",
    "\n",
    "# Save the trained model\n",
    "filename = \"./NB_model.sav\"\n",
    "joblib.dump(NB_pipeline, filename)\n",
    "print(\"Model has been saved as {}\".format(filename))\n",
    "\n",
    "# Evaluate the model on the testing data\n",
    "print(\"#### Model Evaluation on Test Data: ####\")\n",
    "print('Train Accuracy : %.3f'%NB_pipeline.score(train_x, train_y))\n",
    "print('Test Accuracy : %.3f'%NB_pipeline.score(test_x, test_y))"
   ]
  },
  {
   "cell_type": "code",
   "execution_count": 34,
   "id": "5ef349e6",
   "metadata": {},
   "outputs": [],
   "source": [
    "benchmarks = {'NB' : [0.0, 0.0, 0.0],\n",
    "              'NB_tuned':  [0.0, 0.0, 0.0],\n",
    "                }"
   ]
  },
  {
   "cell_type": "code",
   "execution_count": 35,
   "id": "3976bad9",
   "metadata": {},
   "outputs": [
    {
     "name": "stdout",
     "output_type": "stream",
     "text": [
      "Fitting 5 folds for each of 20 candidates, totalling 100 fits\n"
     ]
    }
   ],
   "source": [
    "t0 = time()\n",
    "parameters = {    \n",
    "    'tfidf__use_idf': (True, False),\n",
    "    #'tfidf__lowercase': (True, False), \n",
    "    'tfidf__norm': ('l1', 'l2'),  \n",
    "    'clf__estimator__alpha': (1, 0.1, 0.01, 0.001, 0.0001)  \n",
    "     }\n",
    "NB_grid = GridSearchCV(NB_pipeline, param_grid=parameters, n_jobs=-1, verbose=5)\n",
    "NB_grid.fit(train_x, train_y)\n",
    "#print(\"Training took: {:.2f} \".format(time() - t0))\n",
    "benchmarks['NB_tuned'][0] = (time() - t0)/60"
   ]
  },
  {
   "cell_type": "code",
   "execution_count": 36,
   "id": "93d8a854",
   "metadata": {},
   "outputs": [
    {
     "name": "stdout",
     "output_type": "stream",
     "text": [
      "####After tuning:####\n",
      "Train Accuracy : 0.981\n",
      "Test Accuracy : 0.716\n"
     ]
    }
   ],
   "source": [
    "print(\"####After tuning:####\")\n",
    "print('Train Accuracy : %.3f'%NB_grid.best_estimator_.score(train_x, train_y))\n",
    "print('Test Accuracy : %.3f'%NB_grid.best_estimator_.score(test_x, test_y))"
   ]
  },
  {
   "cell_type": "code",
   "execution_count": 37,
   "id": "7d7b7b39",
   "metadata": {},
   "outputs": [],
   "source": [
    "def save_benchmarks(estimator, estimator_name,x, y, benchmarks):\n",
    "    t0 = time()\n",
    "    pred = estimator.predict(test_x)\n",
    "    benchmarks[estimator_name][1] = (time() - t0)/60\n",
    "    benchmarks[estimator_name][2] = accuracy_score(y, pred)*100"
   ]
  },
  {
   "cell_type": "code",
   "execution_count": 38,
   "id": "8e602aeb",
   "metadata": {},
   "outputs": [
    {
     "name": "stdout",
     "output_type": "stream",
     "text": [
      "[CV 3/5] END clf__estimator__alpha=1, tfidf__norm=l1, tfidf__use_idf=True;, score=0.357 total time=   3.9s\n",
      "[CV 1/5] END clf__estimator__alpha=1, tfidf__norm=l2, tfidf__use_idf=True;, score=0.440 total time=   4.1s\n",
      "[CV 4/5] END clf__estimator__alpha=1, tfidf__norm=l2, tfidf__use_idf=False;, score=0.419 total time=   4.6s\n",
      "[CV 2/5] END clf__estimator__alpha=0.1, tfidf__norm=l1, tfidf__use_idf=False;, score=0.358 total time=   5.3s\n",
      "[CV 5/5] END clf__estimator__alpha=0.1, tfidf__norm=l2, tfidf__use_idf=True;, score=0.649 total time=   5.5s\n",
      "[CV 3/5] END clf__estimator__alpha=0.01, tfidf__norm=l1, tfidf__use_idf=True;, score=0.454 total time=   4.7s\n",
      "[CV 3/5] END clf__estimator__alpha=0.01, tfidf__norm=l2, tfidf__use_idf=True;, score=0.691 total time=   4.3s\n",
      "[CV 1/5] END clf__estimator__alpha=0.001, tfidf__norm=l1, tfidf__use_idf=True;, score=0.512 total time=   4.4s\n",
      "[CV 4/5] END clf__estimator__alpha=0.001, tfidf__norm=l1, tfidf__use_idf=False;, score=0.472 total time=   4.9s\n",
      "[CV 2/5] END clf__estimator__alpha=0.001, tfidf__norm=l2, tfidf__use_idf=False;, score=0.712 total time=   4.8s\n",
      "[CV 5/5] END clf__estimator__alpha=0.0001, tfidf__norm=l1, tfidf__use_idf=True;, score=0.534 total time=   4.4s\n",
      "[CV 3/5] END clf__estimator__alpha=0.0001, tfidf__norm=l2, tfidf__use_idf=True;, score=0.643 total time=   4.5s\n",
      "[CV 3/5] END clf__estimator__alpha=1, tfidf__norm=l1, tfidf__use_idf=False;, score=0.357 total time=   3.9s\n",
      "[CV 4/5] END clf__estimator__alpha=1, tfidf__norm=l2, tfidf__use_idf=True;, score=0.438 total time=   4.7s\n",
      "[CV 2/5] END clf__estimator__alpha=0.1, tfidf__norm=l1, tfidf__use_idf=True;, score=0.361 total time=   4.9s\n",
      "[CV 5/5] END clf__estimator__alpha=0.1, tfidf__norm=l1, tfidf__use_idf=False;, score=0.357 total time=   5.7s\n",
      "[CV 3/5] END clf__estimator__alpha=0.1, tfidf__norm=l2, tfidf__use_idf=False;, score=0.635 total time=   4.8s\n",
      "[CV 1/5] END clf__estimator__alpha=0.01, tfidf__norm=l1, tfidf__use_idf=False;, score=0.403 total time=   4.1s\n",
      "[CV 4/5] END clf__estimator__alpha=0.01, tfidf__norm=l2, tfidf__use_idf=True;, score=0.684 total time=   4.4s\n",
      "[CV 2/5] END clf__estimator__alpha=0.001, tfidf__norm=l1, tfidf__use_idf=True;, score=0.537 total time=   4.3s\n",
      "[CV 5/5] END clf__estimator__alpha=0.001, tfidf__norm=l1, tfidf__use_idf=False;, score=0.464 total time=   5.2s\n",
      "[CV 3/5] END clf__estimator__alpha=0.001, tfidf__norm=l2, tfidf__use_idf=False;, score=0.685 total time=   4.6s\n",
      "[CV 1/5] END clf__estimator__alpha=0.0001, tfidf__norm=l1, tfidf__use_idf=False;, score=0.492 total time=   4.3s\n",
      "[CV 4/5] END clf__estimator__alpha=0.0001, tfidf__norm=l2, tfidf__use_idf=True;, score=0.644 total time=   4.4s\n",
      "[CV 1/5] END clf__estimator__alpha=1, tfidf__norm=l1, tfidf__use_idf=True;, score=0.358 total time=   3.9s\n",
      "[CV 1/5] END clf__estimator__alpha=1, tfidf__norm=l2, tfidf__use_idf=False;, score=0.409 total time=   4.7s\n",
      "[CV 3/5] END clf__estimator__alpha=0.1, tfidf__norm=l1, tfidf__use_idf=True;, score=0.361 total time=   4.8s\n",
      "[CV 1/5] END clf__estimator__alpha=0.1, tfidf__norm=l2, tfidf__use_idf=True;, score=0.646 total time=   5.9s\n",
      "[CV 4/5] END clf__estimator__alpha=0.1, tfidf__norm=l2, tfidf__use_idf=False;, score=0.634 total time=   4.8s\n",
      "[CV 2/5] END clf__estimator__alpha=0.01, tfidf__norm=l1, tfidf__use_idf=False;, score=0.422 total time=   4.2s\n",
      "[CV 5/5] END clf__estimator__alpha=0.01, tfidf__norm=l2, tfidf__use_idf=True;, score=0.692 total time=   4.4s\n",
      "[CV 3/5] END clf__estimator__alpha=0.001, tfidf__norm=l1, tfidf__use_idf=True;, score=0.518 total time=   4.4s\n",
      "[CV 1/5] END clf__estimator__alpha=0.001, tfidf__norm=l2, tfidf__use_idf=True;, score=0.675 total time=   5.3s\n",
      "[CV 4/5] END clf__estimator__alpha=0.001, tfidf__norm=l2, tfidf__use_idf=False;, score=0.679 total time=   4.7s\n",
      "[CV 2/5] END clf__estimator__alpha=0.0001, tfidf__norm=l1, tfidf__use_idf=False;, score=0.521 total time=   4.4s\n",
      "[CV 5/5] END clf__estimator__alpha=0.0001, tfidf__norm=l2, tfidf__use_idf=True;, score=0.656 total time=   4.3s\n",
      "[CV 5/5] END clf__estimator__alpha=1, tfidf__norm=l1, tfidf__use_idf=True;, score=0.357 total time=   4.0s\n",
      "[CV 5/5] END clf__estimator__alpha=1, tfidf__norm=l2, tfidf__use_idf=True;, score=0.442 total time=   4.8s\n",
      "[CV 4/5] END clf__estimator__alpha=0.1, tfidf__norm=l1, tfidf__use_idf=True;, score=0.362 total time=   4.9s\n",
      "[CV 2/5] END clf__estimator__alpha=0.1, tfidf__norm=l2, tfidf__use_idf=True;, score=0.667 total time=   5.9s\n",
      "[CV 5/5] END clf__estimator__alpha=0.1, tfidf__norm=l2, tfidf__use_idf=False;, score=0.632 total time=   4.7s\n",
      "[CV 3/5] END clf__estimator__alpha=0.01, tfidf__norm=l1, tfidf__use_idf=False;, score=0.407 total time=   4.2s\n",
      "[CV 1/5] END clf__estimator__alpha=0.01, tfidf__norm=l2, tfidf__use_idf=False;, score=0.695 total time=   4.3s\n",
      "[CV 4/5] END clf__estimator__alpha=0.001, tfidf__norm=l1, tfidf__use_idf=True;, score=0.522 total time=   4.4s\n",
      "[CV 2/5] END clf__estimator__alpha=0.001, tfidf__norm=l2, tfidf__use_idf=True;, score=0.699 total time=   5.3s\n",
      "[CV 5/5] END clf__estimator__alpha=0.001, tfidf__norm=l2, tfidf__use_idf=False;, score=0.692 total time=   4.7s\n",
      "[CV 3/5] END clf__estimator__alpha=0.0001, tfidf__norm=l1, tfidf__use_idf=False;, score=0.498 total time=   4.3s\n",
      "[CV 1/5] END clf__estimator__alpha=0.0001, tfidf__norm=l2, tfidf__use_idf=False;, score=0.665 total time=   4.2s\n",
      "[CV 2/5] END clf__estimator__alpha=1, tfidf__norm=l1, tfidf__use_idf=True;, score=0.358 total time=   3.9s\n",
      "[CV 4/5] END clf__estimator__alpha=1, tfidf__norm=l1, tfidf__use_idf=False;, score=0.357 total time=   3.8s\n",
      "[CV 2/5] END clf__estimator__alpha=1, tfidf__norm=l2, tfidf__use_idf=False;, score=0.433 total time=   4.6s\n",
      "[CV 5/5] END clf__estimator__alpha=0.1, tfidf__norm=l1, tfidf__use_idf=True;, score=0.362 total time=   5.2s\n",
      "[CV 3/5] END clf__estimator__alpha=0.1, tfidf__norm=l2, tfidf__use_idf=True;, score=0.661 total time=   5.5s\n",
      "[CV 1/5] END clf__estimator__alpha=0.01, tfidf__norm=l1, tfidf__use_idf=True;, score=0.439 total time=   4.6s\n",
      "[CV 4/5] END clf__estimator__alpha=0.01, tfidf__norm=l1, tfidf__use_idf=False;, score=0.407 total time=   4.2s\n",
      "[CV 2/5] END clf__estimator__alpha=0.01, tfidf__norm=l2, tfidf__use_idf=False;, score=0.711 total time=   4.4s\n",
      "[CV 5/5] END clf__estimator__alpha=0.001, tfidf__norm=l1, tfidf__use_idf=True;, score=0.514 total time=   4.5s\n",
      "[CV 3/5] END clf__estimator__alpha=0.001, tfidf__norm=l2, tfidf__use_idf=True;, score=0.665 total time=   5.1s\n",
      "[CV 1/5] END clf__estimator__alpha=0.0001, tfidf__norm=l1, tfidf__use_idf=True;, score=0.534 total time=   4.6s\n",
      "[CV 4/5] END clf__estimator__alpha=0.0001, tfidf__norm=l1, tfidf__use_idf=False;, score=0.506 total time=   4.4s\n",
      "[CV 2/5] END clf__estimator__alpha=0.0001, tfidf__norm=l2, tfidf__use_idf=False;, score=0.695 total time=   3.5s\n",
      "[CV 1/5] END clf__estimator__alpha=1, tfidf__norm=l1, tfidf__use_idf=False;, score=0.358 total time=   3.8s\n",
     